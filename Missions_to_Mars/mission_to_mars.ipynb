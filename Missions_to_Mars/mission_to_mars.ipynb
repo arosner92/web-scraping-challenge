{
 "cells": [
  {
   "cell_type": "code",
   "execution_count": 193,
   "metadata": {},
   "outputs": [],
   "source": [
    "import pandas as pd\n",
    "from bs4 import BeautifulSoup\n",
    "import requests\n",
    "import pymongo\n",
    "from pprint import pprint\n",
    "from splinter import Browser"
   ]
  },
  {
   "cell_type": "code",
   "execution_count": 162,
   "metadata": {},
   "outputs": [],
   "source": [
    "news = 'https://mars.nasa.gov/news/'\n",
    "img = 'https://www.jpl.nasa.gov/spaceimages/?search=&category=Mars'\n",
    "tweets = 'https://twitter.com/marswxreport?lang=en'\n",
    "facts = 'https://space-facts.com/mars/'\n",
    "hemis = 'https://astrogeology.usgs.gov/search/results?q=hemisphere+enhanced&k1=target&v1=Mars'"
   ]
  },
  {
   "cell_type": "code",
   "execution_count": 35,
   "metadata": {},
   "outputs": [],
   "source": [
    "conn = 'mongodb://localhost:27017'\n",
    "client = pymongo.MongoClient(conn)"
   ]
  },
  {
   "cell_type": "code",
   "execution_count": 36,
   "metadata": {},
   "outputs": [],
   "source": [
    "db = client.news_db\n",
    "collection = db.items"
   ]
  },
  {
   "cell_type": "markdown",
   "metadata": {},
   "source": [
    "# News Scraping"
   ]
  },
  {
   "cell_type": "code",
   "execution_count": 117,
   "metadata": {},
   "outputs": [
    {
     "name": "stdout",
     "output_type": "stream",
     "text": [
      "Virginia Middle School Student Earns Honor of Naming NASA's Next Mars Rover\n",
      "NASA chose a seventh-grader from Virginia as winner of the agency's \"Name the Rover\" essay contest. Alexander Mather's entry for \"Perseverance\" was voted tops among 28,000 entries.\n"
     ]
    }
   ],
   "source": [
    "response = requests.get(news)\n",
    "\n",
    "news_soup = BeautifulSoup(response.text, 'lxml')\n",
    "\n",
    "title = news_soup.find('div', class_= 'content_title')\n",
    "news_title = title.a.text.strip()\n",
    "print(news_title)\n",
    "\n",
    "p = news_soup.find('div', class_= 'rollover_description_inner')\n",
    "news_p = p.text.strip()\n",
    "print(news_p)"
   ]
  },
  {
   "cell_type": "markdown",
   "metadata": {},
   "source": [
    "# Image Scraping"
   ]
  },
  {
   "cell_type": "code",
   "execution_count": 118,
   "metadata": {},
   "outputs": [
    {
     "name": "stdout",
     "output_type": "stream",
     "text": [
      "https://www.jpl.nasa.gov/spaceimages/images/mediumsize/PIA14106_ip.jpg\n"
     ]
    }
   ],
   "source": [
    "response = requests.get(img)\n",
    "\n",
    "img_soup = BeautifulSoup(response.text, 'lxml')\n",
    "\n",
    "i = img_soup.find('a', class_ = 'button fancybox')\n",
    "\n",
    "featured_img_url = 'https://www.jpl.nasa.gov' + i.attrs['data-fancybox-href']\n",
    "print(featured_img_url)"
   ]
  },
  {
   "cell_type": "markdown",
   "metadata": {},
   "source": [
    "# Tweet Scraping"
   ]
  },
  {
   "cell_type": "code",
   "execution_count": 224,
   "metadata": {},
   "outputs": [
    {
     "name": "stdout",
     "output_type": "stream",
     "text": [
      "InSight sol 455 (2020-03-08) low -95.4ºC (-139.8ºF) high -13.0ºC (8.5ºF)\n",
      "winds from the SSE at 6.0 m/s (13.5 mph) gusting to 20.7 m/s (46.2 mph)\n",
      "pressure at 6.40 hPa\n",
      "InSight sol 454 (2020-03-06) low -96.0ºC (-140.8ºF) high -12.7ºC (9.1ºF)\n",
      "winds from the SSE at 5.8 m/s (12.9 mph) gusting to 25.2 m/s (56.4 mph)\n",
      "pressure at 6.30 hPa\n",
      "InSight sol 453 (2020-03-05) low -95.1ºC (-139.1ºF) high -10.8ºC (12.6ºF)\n",
      "winds from the SSW at 6.0 m/s (13.3 mph) gusting to 21.4 m/s (47.9 mph)\n",
      "pressure at 6.30 hPa\n",
      "InSight sol 452 (2020-03-05) low -94.2ºC (-137.7ºF) high -9.2ºC (15.4ºF)\n",
      "winds from the SSW at 6.5 m/s (14.5 mph) gusting to 19.6 m/s (43.9 mph)\n",
      "pressure at 6.30 hPa\n",
      "InSight sol 451 (2020-03-03) low -93.6ºC (-136.4ºF) high -10.3ºC (13.4ºF)\n",
      "winds from the SSE at 6.3 m/s (14.2 mph) gusting to 19.9 m/s (44.5 mph)\n",
      "pressure at 6.30 hPa\n",
      "InSight sol 450 (2020-03-02) low -93.5ºC (-136.4ºF) high -10.4ºC (13.3ºF)\n",
      "winds from the SSW at 5.5 m/s (12.4 mph) gusting to 20.6 m/s (46.1 mph)\n",
      "pressure at 6.30 hPa\n",
      "InSight sol 449 (2020-03-01) low -93.6ºC (-136.4ºF) high -11.3ºC (11.7ºF)\n",
      "winds from the SSW at 6.8 m/s (15.1 mph) gusting to 23.9 m/s (53.4 mph)\n",
      "pressure at 6.30 hPa\n",
      "InSight sol 448 (2020-02-29) low -94.1ºC (-137.3ºF) high -8.3ºC (17.0ºF)\n",
      "winds from the SSW at 5.5 m/s (12.4 mph) gusting to 19.9 m/s (44.6 mph)\n",
      "pressure at 6.30 hPa\n",
      "InSight sol 447 (2020-02-28) low -92.6ºC (-134.6ºF) high -11.1ºC (12.0ºF)\n",
      "winds from the SSW at 5.8 m/s (13.1 mph) gusting to 20.2 m/s (45.2 mph)\n",
      "pressure at 6.30 hPa\n",
      "InSight sol 446 (2020-02-27) low -93.6ºC (-136.5ºF) high -11.3ºC (11.7ºF)\n",
      "winds from the SSE at 6.2 m/s (14.0 mph) gusting to 20.6 m/s (46.0 mph)\n",
      "pressure at 6.30 hPa\n",
      "InSight sol 445 (2020-02-26) low -92.8ºC (-135.0ºF) high -12.8ºC (8.9ºF)\n",
      "winds from the SSE at 5.9 m/s (13.3 mph) gusting to 21.1 m/s (47.3 mph)\n",
      "pressure at 6.30 hPa\n",
      "InSight sol 444 (2020-02-25) low -93.8ºC (-136.8ºF) high -12.0ºC (10.5ºF)\n",
      "winds from the SSW at 6.2 m/s (13.9 mph) gusting to 21.2 m/s (47.4 mph)\n",
      "pressure at 6.30 hPa\n",
      "InSight sol 443 (2020-02-24) low -94.8ºC (-138.6ºF) high -12.3ºC (9.8ºF)\n",
      "winds from the SSE at 7.0 m/s (15.6 mph) gusting to 22.2 m/s (49.6 mph)\n",
      "pressure at 6.30 hPa\n",
      "InSight sol 442 (2020-02-23) low -94.1ºC (-137.3ºF) high -10.5ºC (13.0ºF)\n",
      "winds from the SSE at 6.2 m/s (13.8 mph) gusting to 21.1 m/s (47.3 mph)\n",
      "pressure at 6.30 hPa\n",
      "InSight sol 441 (2020-02-22) low -95.1ºC (-139.1ºF) high -13.5ºC (7.7ºF)\n",
      "winds from the SSE at 6.2 m/s (13.8 mph) gusting to 21.0 m/s (47.0 mph)\n",
      "pressure at 6.30 hPa\n"
     ]
    }
   ],
   "source": [
    "response = requests.get(tweets)\n",
    "\n",
    "tweet_soup = BeautifulSoup(response.text, 'lxml')\n",
    "# t = tweet_soup.find('p', class_ = 'TweetTextSize TweetTextSize--normal js-tweet-text tweet-text')\n",
    "t = tweet_soup.find_all('p', class_='TweetTextSize TweetTextSize--normal js-tweet-text tweet-text')\n",
    "# t = tweet_soup.find_all('div', class_='js-tweet-text-container')\n",
    "\n",
    "# t = tweet_soup.find_all('body')\n",
    "for i in t:\n",
    "    if 'InSight' in i.text:\n",
    "        i.a.decompose()\n",
    "        print(i.text)\n",
    "# pprint(t)\n",
    "# mars_weather = t.contents[0]\n",
    "# print(mars_weather)"
   ]
  },
  {
   "cell_type": "markdown",
   "metadata": {},
   "source": [
    "# Facts Scraping"
   ]
  },
  {
   "cell_type": "code",
   "execution_count": 176,
   "metadata": {},
   "outputs": [
    {
     "data": {
      "text/html": [
       "<div>\n",
       "<style scoped>\n",
       "    .dataframe tbody tr th:only-of-type {\n",
       "        vertical-align: middle;\n",
       "    }\n",
       "\n",
       "    .dataframe tbody tr th {\n",
       "        vertical-align: top;\n",
       "    }\n",
       "\n",
       "    .dataframe thead th {\n",
       "        text-align: right;\n",
       "    }\n",
       "</style>\n",
       "<table border=\"1\" class=\"dataframe\">\n",
       "  <thead>\n",
       "    <tr style=\"text-align: right;\">\n",
       "      <th></th>\n",
       "      <th>Data</th>\n",
       "    </tr>\n",
       "    <tr>\n",
       "      <th>Description</th>\n",
       "      <th></th>\n",
       "    </tr>\n",
       "  </thead>\n",
       "  <tbody>\n",
       "    <tr>\n",
       "      <th>Equatorial Diameter:</th>\n",
       "      <td>6,792 km</td>\n",
       "    </tr>\n",
       "    <tr>\n",
       "      <th>Polar Diameter:</th>\n",
       "      <td>6,752 km</td>\n",
       "    </tr>\n",
       "    <tr>\n",
       "      <th>Mass:</th>\n",
       "      <td>6.39 × 10^23 kg (0.11 Earths)</td>\n",
       "    </tr>\n",
       "    <tr>\n",
       "      <th>Moons:</th>\n",
       "      <td>2 (Phobos &amp; Deimos)</td>\n",
       "    </tr>\n",
       "    <tr>\n",
       "      <th>Orbit Distance:</th>\n",
       "      <td>227,943,824 km (1.38 AU)</td>\n",
       "    </tr>\n",
       "    <tr>\n",
       "      <th>Orbit Period:</th>\n",
       "      <td>687 days (1.9 years)</td>\n",
       "    </tr>\n",
       "    <tr>\n",
       "      <th>Surface Temperature:</th>\n",
       "      <td>-87 to -5 °C</td>\n",
       "    </tr>\n",
       "    <tr>\n",
       "      <th>First Record:</th>\n",
       "      <td>2nd millennium BC</td>\n",
       "    </tr>\n",
       "    <tr>\n",
       "      <th>Recorded By:</th>\n",
       "      <td>Egyptian astronomers</td>\n",
       "    </tr>\n",
       "  </tbody>\n",
       "</table>\n",
       "</div>"
      ],
      "text/plain": [
       "                                               Data\n",
       "Description                                        \n",
       "Equatorial Diameter:                       6,792 km\n",
       "Polar Diameter:                            6,752 km\n",
       "Mass:                 6.39 × 10^23 kg (0.11 Earths)\n",
       "Moons:                          2 (Phobos & Deimos)\n",
       "Orbit Distance:            227,943,824 km (1.38 AU)\n",
       "Orbit Period:                  687 days (1.9 years)\n",
       "Surface Temperature:                   -87 to -5 °C\n",
       "First Record:                     2nd millennium BC\n",
       "Recorded By:                   Egyptian astronomers"
      ]
     },
     "execution_count": 176,
     "metadata": {},
     "output_type": "execute_result"
    }
   ],
   "source": [
    "facts_html = pd.read_html(facts)\n",
    "facts_df = facts_html[0]\n",
    "facts_df.columns = ['Description', 'Data']\n",
    "facts_df.set_index('Description', inplace=True)\n",
    "facts_df"
   ]
  },
  {
   "cell_type": "code",
   "execution_count": 187,
   "metadata": {},
   "outputs": [
    {
     "data": {
      "text/plain": [
       "'<table border=\"1\" class=\"dataframe\">  <thead>    <tr style=\"text-align: right;\">      <th></th>      <th>Data</th>    </tr>    <tr>      <th>Description</th>      <th></th>    </tr>  </thead>  <tbody>    <tr>      <th>Equatorial Diameter:</th>      <td>6,792 km</td>    </tr>    <tr>      <th>Polar Diameter:</th>      <td>6,752 km</td>    </tr>    <tr>      <th>Mass:</th>      <td>6.39 × 10^23 kg (0.11 Earths)</td>    </tr>    <tr>      <th>Moons:</th>      <td>2 (Phobos &amp; Deimos)</td>    </tr>    <tr>      <th>Orbit Distance:</th>      <td>227,943,824 km (1.38 AU)</td>    </tr>    <tr>      <th>Orbit Period:</th>      <td>687 days (1.9 years)</td>    </tr>    <tr>      <th>Surface Temperature:</th>      <td>-87 to -5 °C</td>    </tr>    <tr>      <th>First Record:</th>      <td>2nd millennium BC</td>    </tr>    <tr>      <th>Recorded By:</th>      <td>Egyptian astronomers</td>    </tr>  </tbody></table>'"
      ]
     },
     "execution_count": 187,
     "metadata": {},
     "output_type": "execute_result"
    }
   ],
   "source": [
    "html_table = facts_df.to_html()\n",
    "html_table = html_table.replace('\\n', '')\n",
    "html_table"
   ]
  },
  {
   "cell_type": "markdown",
   "metadata": {},
   "source": [
    "# Hemisphere Scraping"
   ]
  },
  {
   "cell_type": "code",
   "execution_count": 203,
   "metadata": {},
   "outputs": [],
   "source": [
    "executable_path = {'executable_path': '/usr/local/bin/chromedriver'}\n",
    "browser = Browser('chrome', **executable_path, headless=False)\n",
    "browser.visit(hemis)\n",
    "\n",
    "hemisphere_image_urls = []\n",
    "\n",
    "for i in range(4):\n",
    "    link = browser.links.find_by_partial_text('Hemisphere')[i]\n",
    "    link.click()\n",
    "    title = browser.find_by_css('.title').first.text\n",
    "    url = browser.find_by_text('Sample').first['href']\n",
    "    hemi_dict = {'title':title, 'url':url}\n",
    "    hemisphere_image_urls.append(hemi_dict)\n",
    "    browser.back()"
   ]
  },
  {
   "cell_type": "code",
   "execution_count": 210,
   "metadata": {},
   "outputs": [
    {
     "name": "stdout",
     "output_type": "stream",
     "text": [
      "[{'title': 'Cerberus Hemisphere Enhanced', 'url': 'http://astropedia.astrogeology.usgs.gov/download/Mars/Viking/cerberus_enhanced.tif/full.jpg'}, {'title': 'Schiaparelli Hemisphere Enhanced', 'url': 'http://astropedia.astrogeology.usgs.gov/download/Mars/Viking/schiaparelli_enhanced.tif/full.jpg'}, {'title': 'Syrtis Major Hemisphere Enhanced', 'url': 'http://astropedia.astrogeology.usgs.gov/download/Mars/Viking/syrtis_major_enhanced.tif/full.jpg'}, {'title': 'Valles Marineris Hemisphere Enhanced', 'url': 'http://astropedia.astrogeology.usgs.gov/download/Mars/Viking/valles_marineris_enhanced.tif/full.jpg'}]\n"
     ]
    }
   ],
   "source": [
    "print(hemisphere_image_urls)"
   ]
  },
  {
   "cell_type": "code",
   "execution_count": null,
   "metadata": {},
   "outputs": [],
   "source": []
  }
 ],
 "metadata": {
  "kernelspec": {
   "display_name": "Python 3",
   "language": "python",
   "name": "python3"
  },
  "language_info": {
   "codemirror_mode": {
    "name": "ipython",
    "version": 3
   },
   "file_extension": ".py",
   "mimetype": "text/x-python",
   "name": "python",
   "nbconvert_exporter": "python",
   "pygments_lexer": "ipython3",
   "version": "3.7.5"
  }
 },
 "nbformat": 4,
 "nbformat_minor": 2
}
